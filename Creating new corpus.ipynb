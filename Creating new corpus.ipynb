{
 "cells": [
  {
   "cell_type": "code",
   "execution_count": 1,
   "id": "c66fd861",
   "metadata": {},
   "outputs": [],
   "source": [
    "import nltk"
   ]
  },
  {
   "cell_type": "code",
   "execution_count": 2,
   "id": "476e6c03",
   "metadata": {},
   "outputs": [],
   "source": [
    "from nltk.corpus import PlaintextCorpusReader"
   ]
  },
  {
   "cell_type": "code",
   "execution_count": 3,
   "id": "af347cb9",
   "metadata": {},
   "outputs": [],
   "source": [
    "corpus_root = './'"
   ]
  },
  {
   "cell_type": "code",
   "execution_count": 4,
   "id": "d8e74491",
   "metadata": {},
   "outputs": [],
   "source": [
    "newcorpus = PlaintextCorpusReader(corpus_root, '.*')"
   ]
  },
  {
   "cell_type": "code",
   "execution_count": 36,
   "id": "1405e3c8",
   "metadata": {},
   "outputs": [
    {
     "data": {
      "text/plain": [
       "['Bu', 'kitabın', 'ən', 'mühüm', 'hissəsi', 'kitabın', ...]"
      ]
     },
     "execution_count": 36,
     "metadata": {},
     "output_type": "execute_result"
    }
   ],
   "source": [
    "newcorpus.words('my_corpus.txt')"
   ]
  },
  {
   "cell_type": "code",
   "execution_count": 37,
   "id": "178bd18d",
   "metadata": {},
   "outputs": [],
   "source": [
    "from itertools import zip_longest"
   ]
  },
  {
   "cell_type": "code",
   "execution_count": 38,
   "id": "4add9bb5",
   "metadata": {},
   "outputs": [],
   "source": [
    "with open('my_corpus.txt', 'r', encoding='utf-8') as file:\n",
    "    text = file.read()"
   ]
  },
  {
   "cell_type": "code",
   "execution_count": 39,
   "id": "a7b5bca4",
   "metadata": {},
   "outputs": [],
   "source": [
    "tokens = nltk.word_tokenize(text)"
   ]
  },
  {
   "cell_type": "code",
   "execution_count": 40,
   "id": "053159a4",
   "metadata": {},
   "outputs": [],
   "source": [
    "text_object = nltk.Text(tokens)"
   ]
  },
  {
   "cell_type": "code",
   "execution_count": 41,
   "id": "73e47514",
   "metadata": {},
   "outputs": [],
   "source": [
    "def pad_int(number, length=8, pad_with=\" \"):\n",
    "    return \"\".join(reversed([ch if ch else pad_with for i, ch in zip_longest(range(length), reversed(str(number)))]))"
   ]
  },
  {
   "cell_type": "code",
   "execution_count": 47,
   "id": "3f666156",
   "metadata": {},
   "outputs": [
    {
     "name": "stdout",
     "output_type": "stream",
     "text": [
      "Bu  kitabın  ən mühüm hissəsi kitab\n",
      "abın ən mühüm hissəsi  kitabın  ortasında yer alır . k\n",
      " ortasında yer alır .  kitabın  əvvəlində və sonundakı\n",
      " də maraqlıdır , amma  kitabın  mərkəzi hissəsi ən çox\n"
     ]
    }
   ],
   "source": [
    "width = 50  # Width of the context window\n",
    "word = \"kitabın\"\n",
    "\n",
    "for con_line in text_object.concordance_list(word, width=width):\n",
    "    query_length = len(con_line.query)\n",
    "    left_width = (width - query_length) // 2\n",
    "    right_width = width - query_length - left_width\n",
    "    left, right = \" \".join(con_line.left).strip()[-left_width:], \" \".join(con_line.right).strip()[:right_width]\n",
    "    print(f\"{left}  {con_line.query}  {right}\")\n"
   ]
  },
  {
   "cell_type": "code",
   "execution_count": null,
   "id": "6cf48de0",
   "metadata": {},
   "outputs": [],
   "source": []
  },
  {
   "cell_type": "code",
   "execution_count": null,
   "id": "d90be403",
   "metadata": {},
   "outputs": [],
   "source": []
  }
 ],
 "metadata": {
  "kernelspec": {
   "display_name": "Python 3 (ipykernel)",
   "language": "python",
   "name": "python3"
  },
  "language_info": {
   "codemirror_mode": {
    "name": "ipython",
    "version": 3
   },
   "file_extension": ".py",
   "mimetype": "text/x-python",
   "name": "python",
   "nbconvert_exporter": "python",
   "pygments_lexer": "ipython3",
   "version": "3.10.9"
  }
 },
 "nbformat": 4,
 "nbformat_minor": 5
}
