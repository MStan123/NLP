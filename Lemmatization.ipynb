{
 "cells": [
  {
   "cell_type": "code",
   "execution_count": 2,
   "id": "d1e45ca8",
   "metadata": {},
   "outputs": [],
   "source": [
    "from io import open\n",
    "from conllu import parse_incr\n",
    "\n",
    "#Create a dict to store the results\n",
    "word_lemma_dict = {}\n",
    "\n",
    "#Open the file and load the sentences to a list.\n",
    "data_file = open('ru_syntagrus-ud-dev1.conllu', \"r\", encoding=\"utf-8\")\n",
    "ud_files = []\n",
    "for tokenlist in parse_incr(data_file):\n",
    "    ud_files.append(tokenlist)\n",
    "data_file.close()\n",
    "\n",
    "#For each sentence loaded, let us extract all tokens, their form (we'll make it lower, so we reduce ambiguity), \n",
    "#the pos_tag and the lemma. We keep the lemma intact because there are proper names.\n",
    "for sentence in ud_files:\n",
    "    for token in sentence:\n",
    "        form = token['form'].lower()\n",
    "        postag = token['upostag']\n",
    "        lemma = token['lemma']\n",
    "        #There are also numbers that are annotated weirdly, let us just skip them:\n",
    "        if postag == \"NUM\":\n",
    "            continue\n",
    "        #Now, we check if the form is in the dictionary, then we check if the POS is set for the form. \n",
    "        #Only then we add the lemma related to the word.\n",
    "        if form in word_lemma_dict:\n",
    "            if postag not in word_lemma_dict[form]:\n",
    "                word_lemma_dict[form][postag] = lemma\n",
    "        #If the word is not in the dict, we add it.\n",
    "        else:\n",
    "            word_lemma_dict[form] = {postag:lemma}\n"
   ]
  },
  {
   "cell_type": "code",
   "execution_count": 9,
   "id": "24e0ab73",
   "metadata": {},
   "outputs": [],
   "source": [
    "def lemmatize(word, pos):\n",
    "    if word in word_lemma_dict:\n",
    "        if pos in word_lemma_dict[word]:\n",
    "            return word_lemma_dict[word][pos]\n",
    "    return word"
   ]
  },
  {
   "cell_type": "code",
   "execution_count": 14,
   "id": "adfcee66",
   "metadata": {},
   "outputs": [
    {
     "name": "stdout",
     "output_type": "stream",
     "text": [
      "алгоритм\n",
      "оставаться\n",
      "мой\n",
      "родиться\n"
     ]
    }
   ],
   "source": [
    "words = [('Алгоритмы', 'NOUN'), ('оставаться', 'VERB'),('Моя','DET'), ('родилась','VERB')]\n",
    "for word_tuple in words:\n",
    "    word = word_tuple[0].lower()  # Convert the word to lowercase\n",
    "    pos = word_tuple[1]\n",
    "    print(lemmatize(word, pos))"
   ]
  },
  {
   "cell_type": "code",
   "execution_count": null,
   "id": "6f13b0b3",
   "metadata": {},
   "outputs": [],
   "source": []
  }
 ],
 "metadata": {
  "kernelspec": {
   "display_name": "Python 3 (ipykernel)",
   "language": "python",
   "name": "python3"
  },
  "language_info": {
   "codemirror_mode": {
    "name": "ipython",
    "version": 3
   },
   "file_extension": ".py",
   "mimetype": "text/x-python",
   "name": "python",
   "nbconvert_exporter": "python",
   "pygments_lexer": "ipython3",
   "version": "3.11.5"
  }
 },
 "nbformat": 4,
 "nbformat_minor": 5
}
